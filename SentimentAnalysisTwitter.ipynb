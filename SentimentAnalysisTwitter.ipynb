{
  "nbformat": 4,
  "nbformat_minor": 0,
  "metadata": {
    "colab": {
      "provenance": [],
      "authorship_tag": "ABX9TyMK8yOO+Fmp0FH1gQnjplt9",
      "include_colab_link": true
    },
    "kernelspec": {
      "name": "python3",
      "display_name": "Python 3"
    }
  },
  "cells": [
    {
      "cell_type": "markdown",
      "metadata": {
        "id": "view-in-github",
        "colab_type": "text"
      },
      "source": [
        "<a href=\"https://colab.research.google.com/github/Avani1994/NLP/blob/main/SentimentAnalysisTwitter.ipynb\" target=\"_parent\"><img src=\"https://colab.research.google.com/assets/colab-badge.svg\" alt=\"Open In Colab\"/></a>"
      ]
    },
    {
      "cell_type": "code",
      "metadata": {
        "colab": {
          "base_uri": "https://localhost:8080/"
        },
        "id": "rAYQ57fOUSwu",
        "outputId": "0546bf66-ea7b-4fbd-e7f4-ac1c8d8943c2"
      },
      "source": [
        "import numpy as np\n",
        "import pandas as pd\n",
        "import tensorflow as tf\n",
        "import re\n",
        "import keras\n",
        "from keras.preprocessing.text import Tokenizer\n",
        "from keras.layers import Dense, Embedding, LSTM, Bidirectional\n",
        "from keras.models import Sequential\n",
        "from keras.preprocessing.sequence import pad_sequences\n",
        "from sklearn.preprocessing import LabelEncoder\n",
        "from sklearn.model_selection import train_test_split\n",
        "from keras.utils import to_categorical\n",
        "import matplotlib.pyplot as plt\n",
        "import pickle\n",
        "\n",
        "import nltk\n",
        "nltk.download('stopwords')\n",
        "stopwords = set(nltk.corpus.stopwords.words('english'))"
      ],
      "execution_count": null,
      "outputs": [
        {
          "output_type": "stream",
          "text": [
            "[nltk_data] Downloading package stopwords to /root/nltk_data...\n",
            "[nltk_data]   Unzipping corpora/stopwords.zip.\n"
          ],
          "name": "stdout"
        }
      ]
    },
    {
      "cell_type": "code",
      "metadata": {
        "colab": {
          "base_uri": "https://localhost:8080/"
        },
        "id": "tnj7LNjTVioO",
        "outputId": "87433c70-502d-4b08-91af-77228ca444e7"
      },
      "source": [
        "from google.colab import drive\n",
        "drive.mount('/content/drive')\n"
      ],
      "execution_count": null,
      "outputs": [
        {
          "output_type": "stream",
          "text": [
            "Mounted at /content/drive\n"
          ],
          "name": "stdout"
        }
      ]
    },
    {
      "cell_type": "code",
      "metadata": {
        "colab": {
          "base_uri": "https://localhost:8080/"
        },
        "id": "aT6-dh1cWb5H",
        "outputId": "f9317a4e-cb0f-44cd-878c-c06f11f6cffe"
      },
      "source": [
        "tr = pd.read_csv('/content/drive/MyDrive/TwitterSentimentAnalysis/train.csv')\n",
        "te = pd.read_csv('/content/drive/MyDrive/TwitterSentimentAnalysis/test.csv')\n",
        "tr.head()\n",
        "\n",
        "ytrain = to_categorical(tr['label'])\n",
        "tweetstrain = list(tr['tweet'])\n",
        "tweetstest = list(te['tweet'])\n",
        "tr.head()\n",
        "\n",
        "print(tr.groupby(['label']).agg(['count']))\n",
        "te.info()"
      ],
      "execution_count": null,
      "outputs": [
        {
          "output_type": "stream",
          "text": [
            "          id  tweet\n",
            "       count  count\n",
            "label              \n",
            "0      29720  29720\n",
            "1       2242   2242\n",
            "<class 'pandas.core.frame.DataFrame'>\n",
            "RangeIndex: 17197 entries, 0 to 17196\n",
            "Data columns (total 2 columns):\n",
            " #   Column  Non-Null Count  Dtype \n",
            "---  ------  --------------  ----- \n",
            " 0   id      17197 non-null  int64 \n",
            " 1   tweet   17197 non-null  object\n",
            "dtypes: int64(1), object(1)\n",
            "memory usage: 268.8+ KB\n"
          ],
          "name": "stdout"
        }
      ]
    },
    {
      "cell_type": "code",
      "metadata": {
        "id": "0x-5EnnHZSUP"
      },
      "source": [
        "def preprocesstext(line):\n",
        "  # remove special chars\n",
        "\n",
        "  line = re.sub(r'[\\W+]', ' ', line)\n",
        "\n",
        "  # remove single chars\n",
        "  line = re.sub(r'\\s+[A-Z][a-z][0-9]\\s+', ' ', line)\n",
        "\n",
        "  #remove single chars from start of line\n",
        "  line = re.sub(r'^[A-Z][a-z][0-9]\\s+', ' ', line)\n",
        "\n",
        "  #remove multiple spaces\n",
        "  line = re.sub(r'\\s+', ' ', line)\n",
        "\n",
        "  # lower case\n",
        "  line = line.lower()\n",
        "\n",
        "  #split line\n",
        "  line = line.split(' ')\n",
        "\n",
        "  # remove stopwords\n",
        "  line = [word for word in line if word not in stopwords]\n",
        "\n",
        "  return ' '.join(line)\n",
        "\n"
      ],
      "execution_count": null,
      "outputs": []
    },
    {
      "cell_type": "code",
      "metadata": {
        "id": "zqjYyCMgb6ro"
      },
      "source": [
        "# preprocess train and text labels\n",
        "preprocessedTrain = []\n",
        "maxLen = float('-inf')\n",
        "for line in list(tweetstrain):\n",
        "  preprocessedTrain.append(preprocesstext(line))\n",
        "  maxLen = max(maxLen, len(line))\n",
        "preprocessedTest = []\n",
        "for line in list(tweetstest):\n",
        "  preprocessedTest.append(preprocesstext(line))\n"
      ],
      "execution_count": null,
      "outputs": []
    },
    {
      "cell_type": "code",
      "metadata": {
        "id": "0EbZWJ-hcz_I"
      },
      "source": [
        "# Tokenize test and train\n",
        "tok = Tokenizer()\n",
        "tok.fit_on_texts(preprocessedTrain)\n",
        "xtrain = tok.texts_to_sequences(preprocessedTrain)\n",
        "xtest = tok.texts_to_sequences(preprocessedTest)\n",
        "\n",
        "xtrain = pad_sequences(xtrain, maxlen = maxLen)\n",
        "xtest = pad_sequences(xtest, maxlen = maxLen)\n",
        "\n",
        "vocabSize = len(tok.word_index) + 1\n"
      ],
      "execution_count": null,
      "outputs": []
    },
    {
      "cell_type": "code",
      "metadata": {
        "colab": {
          "base_uri": "https://localhost:8080/"
        },
        "id": "MLke67u6iLMG",
        "outputId": "985f7d35-fa5c-41b6-b421-2fb604067d1c"
      },
      "source": [
        "# get pretrained embedding\n",
        "embeddingFile = open('/content/drive/MyDrive/glove.6B.100d.txt', encoding='utf8')\n",
        "embeddingDic = {}\n",
        "for line in embeddingFile:\n",
        "  line = line.split()\n",
        "  word = line[0]\n",
        "  embedding = np.asarray(line[1:], dtype='float32')\n",
        "  embeddingDic[word] = embedding\n",
        "\n",
        "embeddingMatrix = np.zeros((vocabSize, 100))\n",
        "print(np.shape(embeddingMatrix))\n",
        "print(vocabSize)\n",
        "for word, index in tok.word_index.items():\n",
        "  embedd = embeddingDic.get(word)\n",
        "  if(embedd is not None):\n",
        "    embeddingMatrix[index] = embedd\n",
        "\n",
        "print(embeddingMatrix[0])"
      ],
      "execution_count": null,
      "outputs": [
        {
          "output_type": "stream",
          "text": [
            "(41254, 100)\n",
            "41254\n",
            "[0. 0. 0. 0. 0. 0. 0. 0. 0. 0. 0. 0. 0. 0. 0. 0. 0. 0. 0. 0. 0. 0. 0. 0.\n",
            " 0. 0. 0. 0. 0. 0. 0. 0. 0. 0. 0. 0. 0. 0. 0. 0. 0. 0. 0. 0. 0. 0. 0. 0.\n",
            " 0. 0. 0. 0. 0. 0. 0. 0. 0. 0. 0. 0. 0. 0. 0. 0. 0. 0. 0. 0. 0. 0. 0. 0.\n",
            " 0. 0. 0. 0. 0. 0. 0. 0. 0. 0. 0. 0. 0. 0. 0. 0. 0. 0. 0. 0. 0. 0. 0. 0.\n",
            " 0. 0. 0. 0.]\n"
          ],
          "name": "stdout"
        }
      ]
    },
    {
      "cell_type": "code",
      "metadata": {
        "colab": {
          "base_uri": "https://localhost:8080/"
        },
        "id": "-FO6h-fWirmh",
        "outputId": "1743c126-d2f7-4c71-8582-c25a194a6c06"
      },
      "source": [
        "# prepare model with pretrained embedding\n",
        "model = Sequential()\n",
        "model.add(Embedding(vocabSize, 100, weights = [embeddingMatrix], trainable = False))\n",
        "model.add(Bidirectional(LSTM(128, dropout=0.2, recurrent_dropout=0.2)))\n",
        "model.add(Dense(2, activation='softmax'))\n",
        "opt = keras.optimizers.Adam()\n",
        "#keras.metrics.AUC(), keras.metrics.Precision(), keras.metrics.Recall()\n",
        "model.compile(loss = 'binary_crossentropy', optimizer = opt, metrics = ['accuracy'])\n",
        "model.summary()\n",
        "hist = model.fit(xtrain,ytrain,batch_size=64,validation_split=0.2,epochs=3,verbose=1,shuffle = True)\n"
      ],
      "execution_count": null,
      "outputs": [
        {
          "output_type": "stream",
          "text": [
            "Model: \"sequential_14\"\n",
            "_________________________________________________________________\n",
            "Layer (type)                 Output Shape              Param #   \n",
            "=================================================================\n",
            "embedding_14 (Embedding)     (None, None, 100)         4125400   \n",
            "_________________________________________________________________\n",
            "bidirectional_13 (Bidirectio (None, 256)               234496    \n",
            "_________________________________________________________________\n",
            "dense_13 (Dense)             (None, 2)                 514       \n",
            "=================================================================\n",
            "Total params: 4,360,410\n",
            "Trainable params: 235,010\n",
            "Non-trainable params: 4,125,400\n",
            "_________________________________________________________________\n",
            "Epoch 1/3\n",
            "400/400 [==============================] - 737s 2s/step - loss: 0.1808 - accuracy: 0.9376 - val_loss: 0.1503 - val_accuracy: 0.9453\n",
            "Epoch 2/3\n",
            "400/400 [==============================] - 717s 2s/step - loss: 0.1469 - accuracy: 0.9470 - val_loss: 0.1340 - val_accuracy: 0.9515\n",
            "Epoch 3/3\n",
            "400/400 [==============================] - 731s 2s/step - loss: 0.1319 - accuracy: 0.9536 - val_loss: 0.1284 - val_accuracy: 0.9553\n"
          ],
          "name": "stdout"
        }
      ]
    },
    {
      "cell_type": "code",
      "metadata": {
        "colab": {
          "base_uri": "https://localhost:8080/"
        },
        "id": "Zhy7a-H7V3UM",
        "outputId": "5c6219fd-c6cf-4c03-dcf8-c929a8cbb56d"
      },
      "source": [
        "# evaluate on test set\n",
        "predict = (model.predict(xtest) > 0.5).astype(\"int32\")\n",
        "print(predict)\n",
        "loss, acc = model.evaluate(xtest)\n",
        "print('loss:', loss, 'acc:', acc)\n",
        "\n"
      ],
      "execution_count": null,
      "outputs": [
        {
          "output_type": "stream",
          "text": [
            "[[0 1]\n",
            " [1 0]\n",
            " [1 0]\n",
            " [1 0]\n",
            " [1 0]\n",
            " [1 0]\n",
            " [1 0]\n",
            " [1 0]]\n",
            "1/1 [==============================] - 0s 5ms/step - loss: 0.0000e+00 - accuracy: 0.0000e+00\n",
            "loss: 0.0 acc: 0.0\n"
          ],
          "name": "stdout"
        }
      ]
    },
    {
      "cell_type": "code",
      "metadata": {
        "colab": {
          "base_uri": "https://localhost:8080/",
          "height": 573
        },
        "id": "ipnTyJk_rAhd",
        "outputId": "a12d9650-c563-4a92-ca8d-7ab941ca9ec9"
      },
      "source": [
        "plt.plot(hist.history['val_accuracy'])\n",
        "plt.plot(hist.history['accuracy'])\n",
        "plt.xlabel('epochs')\n",
        "plt.ylabel('accuracy')\n",
        "plt.title('accuracy graph')\n",
        "plt.legend(['train', 'test'], loc='upper left')\n",
        "plt.show()\n",
        "\n",
        "plt.plot(hist.history['val_loss'])\n",
        "plt.plot(hist.history['loss'])\n",
        "plt.xlabel('epochs')\n",
        "plt.ylabel('loss')\n",
        "plt.title('loss graph')\n",
        "plt.legend(['train', 'test'], loc='upper left')\n",
        "plt.show()"
      ],
      "execution_count": null,
      "outputs": [
        {
          "output_type": "display_data",
          "data": {
            "image/png": "[encoded data removed]",
            "text/plain": [
              "<Figure size 432x288 with 1 Axes>"
            ]
          },
          "metadata": {
            "tags": [],
            "needs_background": "light"
          }
        },
        {
          "output_type": "display_data",
          "data": {
            "image/png": "[encoded data removed]",
            "text/plain": [
              "<Figure size 432x288 with 1 Axes>"
            ]
          },
          "metadata": {
            "tags": [],
            "needs_background": "light"
          }
        }
      ]
    },
    {
      "cell_type": "code",
      "metadata": {
        "colab": {
          "base_uri": "https://localhost:8080/"
        },
        "id": "FPNC70n2sVCB",
        "outputId": "a00e4484-cac6-4cc4-ea7e-2812c9afa810"
      },
      "source": [
        "#predict a single tweet\n",
        "model.save('twitter_sentiments_weights.h5')\n",
        "pickle.dump(tok, open('tok.pkl', 'wb'))\n",
        "\n",
        "tw = \"83,1,how the #altright uses  &amp; insecurity to lure men into #whitesupremacy\"\n",
        "twpreprocessed = preprocesstext(tw)\n",
        "print(twpreprocessed)\n",
        "token = pickle.load(open('tok.pkl', 'rb'))\n",
        "seq = token.texts_to_sequences([twpreprocessed])\n",
        "paddedseq = pad_sequences(seq, maxlen = maxLen)\n",
        "pred = (model.predict(paddedseq) > 0.5).astype('int32')\n",
        "print(pred)\n",
        "\n"
      ],
      "execution_count": null,
      "outputs": [
        {
          "output_type": "stream",
          "text": [
            "83 1 altright uses amp insecurity lure men whitesupremacy\n",
            "[[1 0]]\n"
          ],
          "name": "stdout"
        }
      ]
    },
    {
      "cell_type": "code",
      "metadata": {
        "id": "rOY_yXfwoN61"
      },
      "source": [
        "# TODO\n",
        "# Next very bad accuracy because dataset is imbalanced (use techniques to reduce that)\n",
        "# use precision recall to check accuracy\n",
        "# prepare model with trainable embedding layer from scratch\n"
      ],
      "execution_count": null,
      "outputs": []
    }
  ]
}