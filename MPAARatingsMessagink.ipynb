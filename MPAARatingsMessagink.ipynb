{
  "nbformat": 4,
  "nbformat_minor": 0,
  "metadata": {
    "colab": {
      "provenance": [],
      "machine_shape": "hm",
      "authorship_tag": "ABX9TyN2BkKu3pawAyEwx3TqCYkh",
      "include_colab_link": true
    },
    "kernelspec": {
      "name": "python3",
      "display_name": "Python 3"
    }
  },
  "cells": [
    {
      "cell_type": "markdown",
      "metadata": {
        "id": "view-in-github",
        "colab_type": "text"
      },
      "source": [
        "<a href=\"https://colab.research.google.com/github/Avani1994/NLP/blob/main/MPAARatingsMessagink.ipynb\" target=\"_parent\"><img src=\"https://colab.research.google.com/assets/colab-badge.svg\" alt=\"Open In Colab\"/></a>"
      ]
    },
    {
      "cell_type": "code",
      "metadata": {
        "colab": {
          "base_uri": "https://localhost:8080/"
        },
        "id": "Q_M8jRCNhzhn",
        "outputId": "10ab13bd-7468-4b5a-f88a-7e1579f47ea7"
      },
      "source": [
        "! unzip wiki-news-300d-1M.vec.zip"
      ],
      "execution_count": null,
      "outputs": [
        {
          "output_type": "stream",
          "text": [
            "unzip:  cannot find or open wiki-news-300d-1M.vec.zip, wiki-news-300d-1M.vec.zip.zip or wiki-news-300d-1M.vec.zip.ZIP.\n"
          ],
          "name": "stdout"
        }
      ]
    },
    {
      "cell_type": "code",
      "metadata": {
        "id": "nylqKxRfZu3F",
        "colab": {
          "base_uri": "https://localhost:8080/"
        },
        "outputId": "7c4c0947-2c4e-448d-833b-fd0605463204"
      },
      "source": [
        "import io\n",
        "import pandas as pd\n",
        "import numpy as np\n",
        "import re\n",
        "import nltk\n",
        "nltk.download('stopwords')\n",
        "stopwords = set(nltk.corpus.stopwords.words('english'))\n",
        "from keras.preprocessing.text import Tokenizer\n",
        "from sklearn.model_selection import train_test_split\n",
        "from sklearn.preprocessing import LabelEncoder\n",
        "from keras.preprocessing.sequence import pad_sequences\n",
        "from keras.utils import to_categorical\n",
        "from keras.models import Sequential\n",
        "from keras.layers import Dense, Embedding, LSTM, Bidirectional\n",
        "import matplotlib.pyplot as plt\n",
        "import keras\n",
        "import pickle"
      ],
      "execution_count": null,
      "outputs": [
        {
          "output_type": "stream",
          "text": [
            "[nltk_data] Downloading package stopwords to /root/nltk_data...\n",
            "[nltk_data]   Unzipping corpora/stopwords.zip.\n"
          ],
          "name": "stdout"
        }
      ]
    },
    {
      "cell_type": "code",
      "metadata": {
        "id": "1GpVrwVVs_E7"
      },
      "source": [
        "def load_vectors(fname):\n",
        "    fin = io.open(fname, 'r', encoding='utf-8', newline='\\n', errors='ignore')\n",
        "    n, d = map(int, fin.readline().split())\n",
        "    data = {}\n",
        "    for line in fin:\n",
        "        tokens = line.rstrip().split(' ')\n",
        "        data[tokens[0]] = map(float, tokens[1:])\n",
        "    fin.close()\n",
        "    return data\n",
        "embedding = load_vectors('/content/drive/My Drive/wiki-news-300d-1M.vec')"
      ],
      "execution_count": null,
      "outputs": []
    },
    {
      "cell_type": "code",
      "metadata": {
        "id": "VfkUBK4_oILH"
      },
      "source": [
        "def gloveEmbedding(fname):\n",
        "  fin = open(fname, encoding='utf8')\n",
        "  data = {}\n",
        "  for line in fin:\n",
        "    l = line.split()\n",
        "    data[l[0]] = np.asarray(l[1:], dtype='float32')\n",
        "  fin.close()\n",
        "  return data\n",
        "embeddingGlove = gloveEmbedding('/content/drive/MyDrive/glove.6B.100d.txt')\n"
      ],
      "execution_count": null,
      "outputs": []
    },
    {
      "cell_type": "code",
      "metadata": {
        "colab": {
          "base_uri": "https://localhost:8080/"
        },
        "id": "1BD4wrD7anJ9",
        "outputId": "02398ede-8954-4e50-e73f-5ae1f87edad8"
      },
      "source": [
        "from google.colab import drive\n",
        "drive.mount('/content/drive')"
      ],
      "execution_count": null,
      "outputs": [
        {
          "output_type": "stream",
          "text": [
            "Mounted at /content/drive\n"
          ],
          "name": "stdout"
        }
      ]
    },
    {
      "cell_type": "code",
      "metadata": {
        "colab": {
          "base_uri": "https://localhost:8080/",
          "height": 1000
        },
        "id": "K3fO9abkaeJF",
        "outputId": "4f1b1490-9528-4933-a0b1-16a6638934f1"
      },
      "source": [
        "plots_df = pd.read_csv('/content/drive/My Drive/all_movie.csv')\n",
        "plots_df.head(15)"
      ],
      "execution_count": null,
      "outputs": [
        {
          "output_type": "execute_result",
          "data": {
            "text/html": [
              "<div>\n",
              "<style scoped>\n",
              "    .dataframe tbody tr th:only-of-type {\n",
              "        vertical-align: middle;\n",
              "    }\n",
              "\n",
              "    .dataframe tbody tr th {\n",
              "        vertical-align: top;\n",
              "    }\n",
              "\n",
              "    .dataframe thead th {\n",
              "        text-align: right;\n",
              "    }\n",
              "</style>\n",
              "<table border=\"1\" class=\"dataframe\">\n",
              "  <thead>\n",
              "    <tr style=\"text-align: right;\">\n",
              "      <th></th>\n",
              "      <th>Cast 1</th>\n",
              "      <th>Cast 2</th>\n",
              "      <th>Cast 3</th>\n",
              "      <th>Cast 4</th>\n",
              "      <th>Cast 5</th>\n",
              "      <th>Cast 6</th>\n",
              "      <th>Description</th>\n",
              "      <th>Director 1</th>\n",
              "      <th>Director 2</th>\n",
              "      <th>Director 3</th>\n",
              "      <th>Genre</th>\n",
              "      <th>Rating</th>\n",
              "      <th>Release Date</th>\n",
              "      <th>Runtime</th>\n",
              "      <th>Studio</th>\n",
              "      <th>Title</th>\n",
              "      <th>Writer 1</th>\n",
              "      <th>Writer 2</th>\n",
              "      <th>Writer 3</th>\n",
              "      <th>Writer 4</th>\n",
              "      <th>Year</th>\n",
              "    </tr>\n",
              "  </thead>\n",
              "  <tbody>\n",
              "    <tr>\n",
              "      <th>0</th>\n",
              "      <td>Brendan Fraser</td>\n",
              "      <td>John Hannah</td>\n",
              "      <td>Maria Bello</td>\n",
              "      <td>Michelle Yeoh</td>\n",
              "      <td>Jet Li</td>\n",
              "      <td>Russell Wong</td>\n",
              "      <td>The Fast and the Furious director Rob Cohen co...</td>\n",
              "      <td>Rob Cohen</td>\n",
              "      <td>Simon Duggan</td>\n",
              "      <td>Director Not Available</td>\n",
              "      <td>Action</td>\n",
              "      <td>PG-13</td>\n",
              "      <td>7/24/2008</td>\n",
              "      <td>112 minutes</td>\n",
              "      <td>Universal Pictures</td>\n",
              "      <td>The Mummy: Tomb of the Dragon Emperor</td>\n",
              "      <td>Alfred Gough</td>\n",
              "      <td>Miles Millar</td>\n",
              "      <td>Writer Not Available</td>\n",
              "      <td>Writer Not Available</td>\n",
              "      <td>2008</td>\n",
              "    </tr>\n",
              "    <tr>\n",
              "      <th>1</th>\n",
              "      <td>Brett Granstaff</td>\n",
              "      <td>Diahann Carroll</td>\n",
              "      <td>Lara Jean Chorostecki</td>\n",
              "      <td>Roddy Piper</td>\n",
              "      <td>T.J. McGibbon</td>\n",
              "      <td>James Preston Rogers</td>\n",
              "      <td>The journey of a professional wrestler who bec...</td>\n",
              "      <td>Warren P. Sonoda</td>\n",
              "      <td>Director Not Available</td>\n",
              "      <td>Director Not Available</td>\n",
              "      <td>Action</td>\n",
              "      <td>PG-13</td>\n",
              "      <td>1/8/2016</td>\n",
              "      <td>111 minutes</td>\n",
              "      <td>Freestyle Releasing</td>\n",
              "      <td>The Masked Saint</td>\n",
              "      <td>Scott Crowell</td>\n",
              "      <td>Brett Granstaff</td>\n",
              "      <td>Writer Not Available</td>\n",
              "      <td>Writer Not Available</td>\n",
              "      <td>2016</td>\n",
              "    </tr>\n",
              "    <tr>\n",
              "      <th>2</th>\n",
              "      <td>Leslie Nielsen</td>\n",
              "      <td>Nicollette Sheridan</td>\n",
              "      <td>Andy Griffith</td>\n",
              "      <td>Marcia Gay Harden</td>\n",
              "      <td>John Ales</td>\n",
              "      <td>Barry Bostwick</td>\n",
              "      <td>Dead pan Leslie Nielsen stars as Dick Steele, ...</td>\n",
              "      <td>Rick Friedberg</td>\n",
              "      <td>Director Not Available</td>\n",
              "      <td>Director Not Available</td>\n",
              "      <td>Action</td>\n",
              "      <td>PG-13</td>\n",
              "      <td>5/24/1996</td>\n",
              "      <td>80 minutes</td>\n",
              "      <td>Hollywood Pictures</td>\n",
              "      <td>Spy Hard</td>\n",
              "      <td>Rick Friedberg</td>\n",
              "      <td>Dick Chudnow</td>\n",
              "      <td>Jason Friedberg</td>\n",
              "      <td>Aaron Seltzer</td>\n",
              "      <td>1996</td>\n",
              "    </tr>\n",
              "    <tr>\n",
              "      <th>3</th>\n",
              "      <td>Martina Gedeck</td>\n",
              "      <td>Moritz Bleibtreu</td>\n",
              "      <td>Johanna Wokalek</td>\n",
              "      <td>Bruno Ganz</td>\n",
              "      <td>Nadja Uhl</td>\n",
              "      <td>Jan Josef Liefers</td>\n",
              "      <td>Director Uli Edel teams with screenwriter Bern...</td>\n",
              "      <td>Uli Edel</td>\n",
              "      <td>Director Not Available</td>\n",
              "      <td>Director Not Available</td>\n",
              "      <td>Action</td>\n",
              "      <td>R</td>\n",
              "      <td>9/25/2008</td>\n",
              "      <td>149 minutes</td>\n",
              "      <td>Vitagraph Films</td>\n",
              "      <td>Der Baader Meinhof Komplex (The Baader Meinhof...</td>\n",
              "      <td>Uli Edel</td>\n",
              "      <td>Bernd Eichinger</td>\n",
              "      <td>Writer Not Available</td>\n",
              "      <td>Writer Not Available</td>\n",
              "      <td>2008</td>\n",
              "    </tr>\n",
              "    <tr>\n",
              "      <th>4</th>\n",
              "      <td>Martin Sheen</td>\n",
              "      <td>Marlon Brando</td>\n",
              "      <td>Robert Duvall</td>\n",
              "      <td>Frederic Forrest</td>\n",
              "      <td>Sam Bottoms</td>\n",
              "      <td>Laurence Fishburne</td>\n",
              "      <td>One of a cluster of late-1970s films about the...</td>\n",
              "      <td>Francis Ford Coppola</td>\n",
              "      <td>Director Not Available</td>\n",
              "      <td>Director Not Available</td>\n",
              "      <td>Action</td>\n",
              "      <td>R</td>\n",
              "      <td>1/1/1979</td>\n",
              "      <td>153 minutes</td>\n",
              "      <td>United Artists</td>\n",
              "      <td>Apocalypse Now</td>\n",
              "      <td>John Milius</td>\n",
              "      <td>Francis Ford Coppola</td>\n",
              "      <td>Michael Herr</td>\n",
              "      <td>Writer Not Available</td>\n",
              "      <td>1979</td>\n",
              "    </tr>\n",
              "    <tr>\n",
              "      <th>5</th>\n",
              "      <td>Johnny Depp</td>\n",
              "      <td>Gwyneth Paltrow</td>\n",
              "      <td>Ewan McGregor</td>\n",
              "      <td>Olivia Munn</td>\n",
              "      <td>Jeff Goldblum</td>\n",
              "      <td>Paul Bettany</td>\n",
              "      <td>Juggling some angry Russians, the British Mi5,...</td>\n",
              "      <td>David Koepp</td>\n",
              "      <td>Director Not Available</td>\n",
              "      <td>Director Not Available</td>\n",
              "      <td>Action</td>\n",
              "      <td>R</td>\n",
              "      <td>1/23/2015</td>\n",
              "      <td>106 minutes</td>\n",
              "      <td>Liongate Films</td>\n",
              "      <td>Mortdecai</td>\n",
              "      <td>Eric Aronson</td>\n",
              "      <td>Writer Not Available</td>\n",
              "      <td>Writer Not Available</td>\n",
              "      <td>Writer Not Available</td>\n",
              "      <td>2015</td>\n",
              "    </tr>\n",
              "    <tr>\n",
              "      <th>6</th>\n",
              "      <td>Jeremy Renner</td>\n",
              "      <td>Anthony Mackie</td>\n",
              "      <td>Brian Geraghty</td>\n",
              "      <td>Guy Pearce</td>\n",
              "      <td>Ralph Fiennes</td>\n",
              "      <td>David Morse</td>\n",
              "      <td>Based on the personal wartime experiences of j...</td>\n",
              "      <td>Kathryn Bigelow</td>\n",
              "      <td>Director Not Available</td>\n",
              "      <td>Director Not Available</td>\n",
              "      <td>Action</td>\n",
              "      <td>R</td>\n",
              "      <td>6/26/2009</td>\n",
              "      <td>131 minutes</td>\n",
              "      <td>Summit Entertainment</td>\n",
              "      <td>The Hurt Locker</td>\n",
              "      <td>Mark Boal</td>\n",
              "      <td>Writer Not Available</td>\n",
              "      <td>Writer Not Available</td>\n",
              "      <td>Writer Not Available</td>\n",
              "      <td>2009</td>\n",
              "    </tr>\n",
              "    <tr>\n",
              "      <th>7</th>\n",
              "      <td>Jim Carter</td>\n",
              "      <td>Rasmus Hardiker</td>\n",
              "      <td>Alice Krige</td>\n",
              "      <td>Tim Pigott-Smith</td>\n",
              "      <td>Miriam Margolyes</td>\n",
              "      <td>Matthew Marsh</td>\n",
              "      <td>THE LITTLE VAMPIRE, based on the characters fr...</td>\n",
              "      <td>Richard Claus</td>\n",
              "      <td>Karsten Kiilerich</td>\n",
              "      <td>Director Not Available</td>\n",
              "      <td>Action</td>\n",
              "      <td>NR</td>\n",
              "      <td>8/28/2018</td>\n",
              "      <td>82 minutes</td>\n",
              "      <td>Studio Not Available</td>\n",
              "      <td>The Little Vampire 3D</td>\n",
              "      <td>Angela Sommer-Bodenburg</td>\n",
              "      <td>Larry Wilson</td>\n",
              "      <td>Richard Claus</td>\n",
              "      <td>Writer Not Available</td>\n",
              "      <td>2017</td>\n",
              "    </tr>\n",
              "    <tr>\n",
              "      <th>8</th>\n",
              "      <td>Jack Nicholson</td>\n",
              "      <td>Warren Beatty</td>\n",
              "      <td>Stockard Channing</td>\n",
              "      <td>Florence Stanley</td>\n",
              "      <td>Richard B. Shull</td>\n",
              "      <td>Thomas Newman</td>\n",
              "      <td>Three's a crowd in Mike Nichols's period caper...</td>\n",
              "      <td>Mike Nichols</td>\n",
              "      <td>Director Not Available</td>\n",
              "      <td>Director Not Available</td>\n",
              "      <td>Action</td>\n",
              "      <td>PG</td>\n",
              "      <td>5/20/1975</td>\n",
              "      <td>88 minutes</td>\n",
              "      <td>Columbia Pictures</td>\n",
              "      <td>The Fortune</td>\n",
              "      <td>Carole Eastman</td>\n",
              "      <td>Adrien Joyce</td>\n",
              "      <td>Writer Not Available</td>\n",
              "      <td>Writer Not Available</td>\n",
              "      <td>1975</td>\n",
              "    </tr>\n",
              "    <tr>\n",
              "      <th>9</th>\n",
              "      <td>Robert Mitchum</td>\n",
              "      <td>Deborah Kerr</td>\n",
              "      <td>Cast Not Available</td>\n",
              "      <td>Cast Not Available</td>\n",
              "      <td>Cast Not Available</td>\n",
              "      <td>Cast Not Available</td>\n",
              "      <td>A two-person character study directed by John ...</td>\n",
              "      <td>John Huston</td>\n",
              "      <td>Director Not Available</td>\n",
              "      <td>Director Not Available</td>\n",
              "      <td>Action</td>\n",
              "      <td>NR</td>\n",
              "      <td>1/1/1957</td>\n",
              "      <td>108 minutes</td>\n",
              "      <td>Fox</td>\n",
              "      <td>Heaven Knows Mr. Allison</td>\n",
              "      <td>John Lee Mahin</td>\n",
              "      <td>John Huston</td>\n",
              "      <td>Writer Not Available</td>\n",
              "      <td>Writer Not Available</td>\n",
              "      <td>1957</td>\n",
              "    </tr>\n",
              "    <tr>\n",
              "      <th>10</th>\n",
              "      <td>Michael Boatman</td>\n",
              "      <td>Lori Petty</td>\n",
              "      <td>Ice Cube</td>\n",
              "      <td>Elliott Gould</td>\n",
              "      <td>Richard Anderson</td>\n",
              "      <td>Michael Ironside</td>\n",
              "      <td>In this powerful drama, young J.J. is the firs...</td>\n",
              "      <td>Charles Burnett</td>\n",
              "      <td>Director Not Available</td>\n",
              "      <td>Director Not Available</td>\n",
              "      <td>Action</td>\n",
              "      <td>PG-13</td>\n",
              "      <td>12/31/1994</td>\n",
              "      <td>108 minutes</td>\n",
              "      <td>Miramax</td>\n",
              "      <td>The Glass Shield</td>\n",
              "      <td>Charles Burnett</td>\n",
              "      <td>Writer Not Available</td>\n",
              "      <td>Writer Not Available</td>\n",
              "      <td>Writer Not Available</td>\n",
              "      <td>1994</td>\n",
              "    </tr>\n",
              "    <tr>\n",
              "      <th>11</th>\n",
              "      <td>Tom Papa</td>\n",
              "      <td>Paul Giamatti</td>\n",
              "      <td>Brian Posehn</td>\n",
              "      <td>Sheri Moon Zombie</td>\n",
              "      <td>Danny Trejo</td>\n",
              "      <td>Geoffrey Lewis</td>\n",
              "      <td>Paul Giamatti, Brian Posehn, Rosario Dawson, D...</td>\n",
              "      <td>Rob Zombie</td>\n",
              "      <td>Mr. Lawrence</td>\n",
              "      <td>Director Not Available</td>\n",
              "      <td>Action</td>\n",
              "      <td>R</td>\n",
              "      <td>9/22/2009</td>\n",
              "      <td>77 minutes</td>\n",
              "      <td>Anchor Bay Entertainment</td>\n",
              "      <td>The Haunted World of El Superbeasto</td>\n",
              "      <td>Tom Papa</td>\n",
              "      <td>Rob Zombie</td>\n",
              "      <td>Writer Not Available</td>\n",
              "      <td>Writer Not Available</td>\n",
              "      <td>2009</td>\n",
              "    </tr>\n",
              "    <tr>\n",
              "      <th>12</th>\n",
              "      <td>Jeff Bennett</td>\n",
              "      <td>Linda Gary</td>\n",
              "      <td>Heather Hogan</td>\n",
              "      <td>John Ingle</td>\n",
              "      <td>Tress MacNeille</td>\n",
              "      <td>Candy Hutson</td>\n",
              "      <td>In this third installment of the animated saga...</td>\n",
              "      <td>Roy Allen Smith</td>\n",
              "      <td>Hang Deok Jo</td>\n",
              "      <td>Hoon Chil Joo</td>\n",
              "      <td>Action</td>\n",
              "      <td>G</td>\n",
              "      <td>6/1/1995</td>\n",
              "      <td>71 minutes</td>\n",
              "      <td>MCA Universal Home Video</td>\n",
              "      <td>The Land Before Time III: The Time of Great Gi...</td>\n",
              "      <td>Dev Ross</td>\n",
              "      <td>John Loy</td>\n",
              "      <td>John Ludin</td>\n",
              "      <td>Writer Not Available</td>\n",
              "      <td>1995</td>\n",
              "    </tr>\n",
              "    <tr>\n",
              "      <th>13</th>\n",
              "      <td>Peter Fonda</td>\n",
              "      <td>Susan George</td>\n",
              "      <td>Adam Roarke</td>\n",
              "      <td>Vic Morrow</td>\n",
              "      <td>Kenneth Tobey</td>\n",
              "      <td>Eugene Daniels</td>\n",
              "      <td>Three outlaws hit the road until the road hits...</td>\n",
              "      <td>John Hough</td>\n",
              "      <td>Director Not Available</td>\n",
              "      <td>Director Not Available</td>\n",
              "      <td>Action</td>\n",
              "      <td>PG</td>\n",
              "      <td>1/1/1974</td>\n",
              "      <td>93 minutes</td>\n",
              "      <td>Anchor Bay Entertainment</td>\n",
              "      <td>Dirty Mary Crazy Larry</td>\n",
              "      <td>Writer Not Available</td>\n",
              "      <td>Writer Not Available</td>\n",
              "      <td>Writer Not Available</td>\n",
              "      <td>Writer Not Available</td>\n",
              "      <td>1974</td>\n",
              "    </tr>\n",
              "    <tr>\n",
              "      <th>14</th>\n",
              "      <td>Rex Harrison</td>\n",
              "      <td>Samantha Eggar</td>\n",
              "      <td>Anthony Newley</td>\n",
              "      <td>Richard Attenborough</td>\n",
              "      <td>Peter Bull</td>\n",
              "      <td>William Dix</td>\n",
              "      <td>Rex Harrison, although not at all like the por...</td>\n",
              "      <td>Richard Fleischer</td>\n",
              "      <td>Director Not Available</td>\n",
              "      <td>Director Not Available</td>\n",
              "      <td>Action</td>\n",
              "      <td>G</td>\n",
              "      <td>12/19/1967</td>\n",
              "      <td>145 minutes</td>\n",
              "      <td>20th Century Fox</td>\n",
              "      <td>Doctor Dolittle</td>\n",
              "      <td>Leslie Bricusse</td>\n",
              "      <td>Writer Not Available</td>\n",
              "      <td>Writer Not Available</td>\n",
              "      <td>Writer Not Available</td>\n",
              "      <td>1967</td>\n",
              "    </tr>\n",
              "  </tbody>\n",
              "</table>\n",
              "</div>"
            ],
            "text/plain": [
              "             Cast 1               Cast 2  ...              Writer 4  Year\n",
              "0    Brendan Fraser          John Hannah  ...  Writer Not Available  2008\n",
              "1   Brett Granstaff      Diahann Carroll  ...  Writer Not Available  2016\n",
              "2    Leslie Nielsen  Nicollette Sheridan  ...         Aaron Seltzer  1996\n",
              "3    Martina Gedeck     Moritz Bleibtreu  ...  Writer Not Available  2008\n",
              "4      Martin Sheen        Marlon Brando  ...  Writer Not Available  1979\n",
              "5       Johnny Depp      Gwyneth Paltrow  ...  Writer Not Available  2015\n",
              "6     Jeremy Renner       Anthony Mackie  ...  Writer Not Available  2009\n",
              "7        Jim Carter      Rasmus Hardiker  ...  Writer Not Available  2017\n",
              "8    Jack Nicholson        Warren Beatty  ...  Writer Not Available  1975\n",
              "9    Robert Mitchum         Deborah Kerr  ...  Writer Not Available  1957\n",
              "10  Michael Boatman           Lori Petty  ...  Writer Not Available  1994\n",
              "11         Tom Papa        Paul Giamatti  ...  Writer Not Available  2009\n",
              "12     Jeff Bennett           Linda Gary  ...  Writer Not Available  1995\n",
              "13      Peter Fonda         Susan George  ...  Writer Not Available  1974\n",
              "14     Rex Harrison       Samantha Eggar  ...  Writer Not Available  1967\n",
              "\n",
              "[15 rows x 21 columns]"
            ]
          },
          "metadata": {
            "tags": []
          },
          "execution_count": 5
        }
      ]
    },
    {
      "cell_type": "code",
      "metadata": {
        "colab": {
          "base_uri": "https://localhost:8080/"
        },
        "id": "3NNv1SdpdR2V",
        "outputId": "a5e2a9fc-5968-40ab-a049-13d645e1ef99"
      },
      "source": [
        "plots_df = plots_df[['Title','Description','Rating']]\n",
        "plots_df['Rating'] = plots_df['Rating'].str.strip()\n",
        "#plots_df['Rating'] = plots_df['Rating' != 'NR']\n",
        "plots_df = plots_df.loc[(plots_df['Rating'] != 'NR')]\n",
        "plots_df.Rating.unique()\n"
      ],
      "execution_count": null,
      "outputs": [
        {
          "output_type": "execute_result",
          "data": {
            "text/plain": [
              "array(['PG-13', 'R', 'PG', 'G', 'NC17'], dtype=object)"
            ]
          },
          "metadata": {
            "tags": []
          },
          "execution_count": 6
        }
      ]
    },
    {
      "cell_type": "code",
      "metadata": {
        "id": "SBKtR20NwA1r",
        "colab": {
          "base_uri": "https://localhost:8080/",
          "height": 173
        },
        "outputId": "cebc141e-f700-4352-e407-ec87ea7fe239"
      },
      "source": [
        "plots_df.describe()"
      ],
      "execution_count": null,
      "outputs": [
        {
          "output_type": "execute_result",
          "data": {
            "text/html": [
              "<div>\n",
              "<style scoped>\n",
              "    .dataframe tbody tr th:only-of-type {\n",
              "        vertical-align: middle;\n",
              "    }\n",
              "\n",
              "    .dataframe tbody tr th {\n",
              "        vertical-align: top;\n",
              "    }\n",
              "\n",
              "    .dataframe thead th {\n",
              "        text-align: right;\n",
              "    }\n",
              "</style>\n",
              "<table border=\"1\" class=\"dataframe\">\n",
              "  <thead>\n",
              "    <tr style=\"text-align: right;\">\n",
              "      <th></th>\n",
              "      <th>Title</th>\n",
              "      <th>Description</th>\n",
              "      <th>Rating</th>\n",
              "    </tr>\n",
              "  </thead>\n",
              "  <tbody>\n",
              "    <tr>\n",
              "      <th>count</th>\n",
              "      <td>21805</td>\n",
              "      <td>21804</td>\n",
              "      <td>21805</td>\n",
              "    </tr>\n",
              "    <tr>\n",
              "      <th>unique</th>\n",
              "      <td>10696</td>\n",
              "      <td>10893</td>\n",
              "      <td>5</td>\n",
              "    </tr>\n",
              "    <tr>\n",
              "      <th>top</th>\n",
              "      <td>Home</td>\n",
              "      <td>Rose Hathaway (Deutch) is a Dhampir: half huma...</td>\n",
              "      <td>R</td>\n",
              "    </tr>\n",
              "    <tr>\n",
              "      <th>freq</th>\n",
              "      <td>7</td>\n",
              "      <td>7</td>\n",
              "      <td>10884</td>\n",
              "    </tr>\n",
              "  </tbody>\n",
              "</table>\n",
              "</div>"
            ],
            "text/plain": [
              "        Title                                        Description Rating\n",
              "count   21805                                              21804  21805\n",
              "unique  10696                                              10893      5\n",
              "top      Home  Rose Hathaway (Deutch) is a Dhampir: half huma...      R\n",
              "freq        7                                                  7  10884"
            ]
          },
          "metadata": {
            "tags": []
          },
          "execution_count": 7
        }
      ]
    },
    {
      "cell_type": "code",
      "metadata": {
        "id": "Lf-k1v-FwIxq",
        "colab": {
          "base_uri": "https://localhost:8080/"
        },
        "outputId": "480ed4f4-1989-4bb9-c530-16e93f207f67"
      },
      "source": [
        "plots_df.isnull().sum()"
      ],
      "execution_count": null,
      "outputs": [
        {
          "output_type": "execute_result",
          "data": {
            "text/plain": [
              "Title          0\n",
              "Description    1\n",
              "Rating         0\n",
              "dtype: int64"
            ]
          },
          "metadata": {
            "tags": []
          },
          "execution_count": 8
        }
      ]
    },
    {
      "cell_type": "code",
      "metadata": {
        "id": "CsfP3CRbda_o"
      },
      "source": [
        "plots_df = plots_df.loc[plots_df['Description'].notnull()]\n"
      ],
      "execution_count": null,
      "outputs": []
    },
    {
      "cell_type": "code",
      "metadata": {
        "id": "R-7UIrRfvhIU",
        "colab": {
          "base_uri": "https://localhost:8080/"
        },
        "outputId": "8e97c65c-3965-4fa6-bb3e-29c12d03a711"
      },
      "source": [
        "plots_df.groupby(['Rating']).size()"
      ],
      "execution_count": null,
      "outputs": [
        {
          "output_type": "execute_result",
          "data": {
            "text/plain": [
              "Rating\n",
              "G         1605\n",
              "NC17        91\n",
              "PG        4172\n",
              "PG-13     5052\n",
              "R        10884\n",
              "dtype: int64"
            ]
          },
          "metadata": {
            "tags": []
          },
          "execution_count": 10
        }
      ]
    },
    {
      "cell_type": "code",
      "metadata": {
        "id": "9ei_GOuBv9XC",
        "colab": {
          "base_uri": "https://localhost:8080/"
        },
        "outputId": "1d7e2c18-d10e-426a-c392-8e59aa432d76"
      },
      "source": [
        "plots_df[\"Rating\"].isnull().sum()"
      ],
      "execution_count": null,
      "outputs": [
        {
          "output_type": "execute_result",
          "data": {
            "text/plain": [
              "0"
            ]
          },
          "metadata": {
            "tags": []
          },
          "execution_count": 11
        }
      ]
    },
    {
      "cell_type": "code",
      "metadata": {
        "colab": {
          "base_uri": "https://localhost:8080/",
          "height": 188
        },
        "id": "vmXKsAY8dyML",
        "outputId": "c9b03250-635e-4807-e5da-f65a9e36bae9"
      },
      "source": [
        "plots_df.Description[0]"
      ],
      "execution_count": null,
      "outputs": [
        {
          "output_type": "execute_result",
          "data": {
            "application/vnd.google.colaboratory.intrinsic+json": {
              "type": "string"
            },
            "text/plain": [
              "\"The Fast and the Furious director Rob Cohen continues the tale set into motion by director Stephen Sommers with this globe-trotting adventure that finds explorer Rick O'Connell and son attempting to thwart a resurrected emperor's (Jet Li) plan to enslave the entire human race. It's been 2,000 years since China's merciless Emperor Han and his formidable army were entombed in terra cotta clay by a double-dealing sorceress (Michelle Yeoh), but now, after centuries in suspended animation, an ancient curse is about to be broken. Thanks to his childhood adventures alongside father Rick (Brendan Fraser) and mother Evelyn (Maria Bello), dashing young archeologist Alex O'Connell (Luke Ford) is more than familiar with the power of the supernatural. After he is tricked into awakening the dreaded emperor from his eternal slumber, however, the frightened young adventurer is forced to seek out the wisdom of his parents -- both of whom have had their fair share of experience battling the legions of the undead. Should the fierce monarch prove capable of awakening his powerful terra cotta army, his diabolical plan for world domination will finally be set into motion. Of course, the one factor that this emperor mummy failed to consider while solidifying his power-mad plans was the O'Connells, and before this battle is over, the monstrous monarch will be forced to contend with the one family that isn't frightened by a few rickety reanimated corpses. ~ Jason Buchanan, Rovi\""
            ]
          },
          "metadata": {
            "tags": []
          },
          "execution_count": 12
        }
      ]
    },
    {
      "cell_type": "code",
      "metadata": {
        "id": "Ml2UQitvesqg"
      },
      "source": [
        "# Preprocess text to tokenize it further\n",
        "def preprocessText(text):\n",
        "  text = re.sub(r'\\W+', ' ', text) # Remove special chars\n",
        "  text = re.sub(r'\\s+[a-zA-z0-9]\\s+', ' ', text) # remove single letters/numbers\n",
        "  text = re.sub(r'^[a-zA-z0-9]\\s+', ' ', text) # remove single letters/numbers at start of the text\n",
        "  text = re.sub(r'\\s+', ' ', text) # remove multiple spaces\n",
        "  text = text.lower() # convert lower case\n",
        "  text = text.split(' ') # split for removing stop words\n",
        "  text = [word for word in text if word not in stopwords]\n",
        "  return ' '.join(text)\n",
        "\n",
        "preprocessedText = []\n",
        "for sent in plots_df.Description:\n",
        "  #print(sent)\n",
        "  preprocessedText.append(preprocessText(sent))\n",
        "\n",
        "labelEncoder = LabelEncoder()\n",
        "y = labelEncoder.fit_transform(plots_df['Rating'])\n",
        "\n",
        "xTrain, xTest, yTrain, yText = train_test_split(preprocessedText, y, test_size = 0.2, random_state = 45)\n",
        "\n",
        "yTrain = to_categorical(yTrain)\n",
        "yText = to_categorical(yText)\n"
      ],
      "execution_count": null,
      "outputs": []
    },
    {
      "cell_type": "code",
      "metadata": {
        "id": "P8G1Jq5PBL3u"
      },
      "source": [
        "# Tokenize - 3 options Keras Tokenizer (allows to fit text, get vocab),\n",
        "# spacy.io tokenizer (Check in this link for text to sequences - (https://stackoverflow.com/questions/53212374/how-to-get-token-ids-using-spacy-i-want-to-map-a-text-sentence-to-sequence-of-i),\n",
        "# nltk tokenizer (based on regular expressions - grammar/punctuation/space/wordtokenizer ),\n",
        "\n",
        "tok = Tokenizer()\n",
        "tok.fit_on_texts(xTrain)\n",
        "train = tok.texts_to_sequences(xTrain)\n",
        "test = tok.texts_to_sequences(xTest)\n",
        "vocabSize = len(tok.word_index) + 1\n",
        "maxlen = 400\n",
        "train = pad_sequences(train, maxlen = maxlen)\n",
        "test = pad_sequences(test, maxlen = maxlen)\n",
        "\n",
        "\n",
        "#Now create embedding matrix for model\n",
        "\n",
        "embeddingMatrix = np.zeros((vocabSize, 100))\n",
        "\n",
        "for word, i in tok.word_index.items():\n",
        "  if(word in embeddingGlove):\n",
        "    word_vec = embeddingGlove[word]\n",
        "    embeddingMatrix[i] = word_vec\n",
        "\n",
        "\n",
        "\n"
      ],
      "execution_count": null,
      "outputs": []
    },
    {
      "cell_type": "code",
      "metadata": {
        "colab": {
          "base_uri": "https://localhost:8080/"
        },
        "id": "_FTcupZNuzQk",
        "outputId": "f28f03c0-bdac-466d-f96a-1ae96d9ebf34"
      },
      "source": [
        "# Build model\n",
        "# Simple Model using biLSTMs first\n",
        "\n",
        "model = Sequential()\n",
        "model.add(Embedding(input_dim = vocabSize,  output_dim = 100, weights = [embeddingMatrix], trainable = False))\n",
        "model.add(Bidirectional(LSTM(units = 128, dropout = 0.2, return_sequences=True, recurrent_dropout = 0.2), merge_mode='concat'))\n",
        "model.add(Bidirectional(LSTM(units = 128, dropout = 0.2, recurrent_dropout = 0.2), merge_mode='concat'))\n",
        "model.add(Dense(5, activation = 'softmax'))\n",
        "opt = keras.optimizers.Adam()\n",
        "model.compile(loss = 'categorical_crossentropy', optimizer = opt, metrics = ['accuracy'])\n",
        "model.summary()\n",
        "\n",
        "print(xTrain[0])\n",
        "\n"
      ],
      "execution_count": null,
      "outputs": [
        {
          "output_type": "stream",
          "text": [
            "Model: \"sequential_1\"\n",
            "_________________________________________________________________\n",
            "Layer (type)                 Output Shape              Param #   \n",
            "=================================================================\n",
            "embedding_1 (Embedding)      (None, None, 100)         4975600   \n",
            "_________________________________________________________________\n",
            "bidirectional (Bidirectional (None, None, 256)         234496    \n",
            "_________________________________________________________________\n",
            "bidirectional_1 (Bidirection (None, 256)               394240    \n",
            "_________________________________________________________________\n",
            "dense_1 (Dense)              (None, 5)                 1285      \n",
            "=================================================================\n",
            "Total params: 5,605,621\n",
            "Trainable params: 630,021\n",
            "Non-trainable params: 4,975,600\n",
            "_________________________________________________________________\n",
            "coraline jones girl 11 feisty curious adventurous beyond years parents relocated michigan oregon missing friends finding parents distracted work coraline tries find excitement new environment coraline seriously doubts new home provide anything truly intriguing uncovers secret door house walking door venturing eerie passageway discovers alternate version life existence \n"
          ],
          "name": "stdout"
        }
      ]
    },
    {
      "cell_type": "code",
      "metadata": {
        "id": "ilSC00Dj3C7S",
        "colab": {
          "base_uri": "https://localhost:8080/"
        },
        "outputId": "b3a7cdb8-04c7-43f2-fe9a-377e4a269565"
      },
      "source": [
        "hist = model.fit(train, yTrain, batch_size = 128, epochs = 35, validation_split = 0.2, verbose = 1)\n",
        "\n",
        "\n"
      ],
      "execution_count": null,
      "outputs": [
        {
          "output_type": "stream",
          "text": [
            "Epoch 1/35\n",
            "110/110 [==============================] - 730s 7s/step - loss: 1.2012 - accuracy: 0.5127 - val_loss: 1.0996 - val_accuracy: 0.5085\n",
            "Epoch 2/35\n",
            "110/110 [==============================] - 718s 7s/step - loss: 1.0816 - accuracy: 0.5374 - val_loss: 1.3271 - val_accuracy: 0.4018\n",
            "Epoch 3/35\n",
            "110/110 [==============================] - 719s 7s/step - loss: 1.0581 - accuracy: 0.5348 - val_loss: 0.9935 - val_accuracy: 0.5744\n",
            "Epoch 4/35\n",
            "110/110 [==============================] - 717s 7s/step - loss: 0.9614 - accuracy: 0.5987 - val_loss: 0.9806 - val_accuracy: 0.5747\n",
            "Epoch 5/35\n",
            "110/110 [==============================] - 713s 6s/step - loss: 0.9631 - accuracy: 0.6022 - val_loss: 0.9978 - val_accuracy: 0.5758\n",
            "Epoch 6/35\n",
            "110/110 [==============================] - 714s 6s/step - loss: 0.9032 - accuracy: 0.6247 - val_loss: 0.9389 - val_accuracy: 0.5979\n",
            "Epoch 7/35\n",
            "110/110 [==============================] - 712s 6s/step - loss: 0.8492 - accuracy: 0.6473 - val_loss: 0.9452 - val_accuracy: 0.6088\n",
            "Epoch 8/35\n",
            "110/110 [==============================] - 712s 6s/step - loss: 0.8772 - accuracy: 0.6426 - val_loss: 0.9213 - val_accuracy: 0.6177\n",
            "Epoch 9/35\n",
            "110/110 [==============================] - 710s 6s/step - loss: 0.8012 - accuracy: 0.6729 - val_loss: 0.8722 - val_accuracy: 0.6466\n",
            "Epoch 10/35\n",
            "110/110 [==============================] - 718s 7s/step - loss: 0.7071 - accuracy: 0.7179 - val_loss: 0.8523 - val_accuracy: 0.6578\n",
            "Epoch 11/35\n",
            "110/110 [==============================] - 712s 6s/step - loss: 0.6601 - accuracy: 0.7356 - val_loss: 0.8187 - val_accuracy: 0.6804\n",
            "Epoch 12/35\n",
            "110/110 [==============================] - 718s 7s/step - loss: 0.6311 - accuracy: 0.7489 - val_loss: 0.8227 - val_accuracy: 0.6773\n",
            "Epoch 13/35\n",
            "110/110 [==============================] - 716s 7s/step - loss: 0.6370 - accuracy: 0.7433 - val_loss: 0.8435 - val_accuracy: 0.6982\n",
            "Epoch 14/35\n",
            "110/110 [==============================] - 713s 6s/step - loss: 0.5104 - accuracy: 0.8019 - val_loss: 0.8207 - val_accuracy: 0.7062\n",
            "Epoch 15/35\n",
            "110/110 [==============================] - 718s 7s/step - loss: 0.5486 - accuracy: 0.7861 - val_loss: 0.8063 - val_accuracy: 0.7071\n",
            "Epoch 16/35\n",
            "110/110 [==============================] - 724s 7s/step - loss: 0.5192 - accuracy: 0.7903 - val_loss: 0.8210 - val_accuracy: 0.7294\n",
            "Epoch 17/35\n",
            "110/110 [==============================] - 720s 7s/step - loss: 0.4449 - accuracy: 0.8247 - val_loss: 0.7636 - val_accuracy: 0.7409\n",
            "Epoch 18/35\n",
            "110/110 [==============================] - 717s 7s/step - loss: 0.3666 - accuracy: 0.8582 - val_loss: 0.8085 - val_accuracy: 0.7486\n",
            "Epoch 19/35\n",
            "110/110 [==============================] - 712s 6s/step - loss: 0.3030 - accuracy: 0.8880 - val_loss: 0.7193 - val_accuracy: 0.7661\n",
            "Epoch 20/35\n",
            "110/110 [==============================] - 718s 7s/step - loss: 0.4109 - accuracy: 0.8425 - val_loss: 0.6945 - val_accuracy: 0.7807\n",
            "Epoch 21/35\n",
            "110/110 [==============================] - 716s 7s/step - loss: 0.2702 - accuracy: 0.9014 - val_loss: 0.7047 - val_accuracy: 0.7919\n",
            "Epoch 22/35\n",
            "110/110 [==============================] - 714s 6s/step - loss: 0.2313 - accuracy: 0.9185 - val_loss: 0.7188 - val_accuracy: 0.8008\n",
            "Epoch 23/35\n",
            "110/110 [==============================] - 715s 7s/step - loss: 0.1978 - accuracy: 0.9278 - val_loss: 0.6728 - val_accuracy: 0.8103\n",
            "Epoch 24/35\n",
            "110/110 [==============================] - 712s 6s/step - loss: 0.1809 - accuracy: 0.9355 - val_loss: 0.7510 - val_accuracy: 0.8148\n",
            "Epoch 25/35\n",
            "110/110 [==============================] - 719s 7s/step - loss: 0.1915 - accuracy: 0.9310 - val_loss: 0.7389 - val_accuracy: 0.8177\n",
            "Epoch 26/35\n",
            "110/110 [==============================] - 718s 7s/step - loss: 0.1580 - accuracy: 0.9431 - val_loss: 0.7349 - val_accuracy: 0.8191\n",
            "Epoch 27/35\n",
            "110/110 [==============================] - 725s 7s/step - loss: 0.1420 - accuracy: 0.9508 - val_loss: 0.7416 - val_accuracy: 0.8034\n",
            "Epoch 28/35\n",
            "110/110 [==============================] - 721s 7s/step - loss: 0.2116 - accuracy: 0.9214 - val_loss: 0.8196 - val_accuracy: 0.8117\n",
            "Epoch 29/35\n",
            "110/110 [==============================] - 721s 7s/step - loss: 0.1320 - accuracy: 0.9511 - val_loss: 0.7736 - val_accuracy: 0.8200\n",
            "Epoch 30/35\n",
            "110/110 [==============================] - 727s 7s/step - loss: 0.1378 - accuracy: 0.9518 - val_loss: 0.7770 - val_accuracy: 0.8223\n",
            "Epoch 31/35\n",
            "110/110 [==============================] - 727s 7s/step - loss: 0.1441 - accuracy: 0.9466 - val_loss: 0.7617 - val_accuracy: 0.8269\n",
            "Epoch 32/35\n",
            "110/110 [==============================] - 728s 7s/step - loss: 0.0933 - accuracy: 0.9689 - val_loss: 0.7754 - val_accuracy: 0.8257\n",
            "Epoch 33/35\n",
            "110/110 [==============================] - 722s 7s/step - loss: 0.0894 - accuracy: 0.9689 - val_loss: 0.8561 - val_accuracy: 0.8143\n",
            "Epoch 34/35\n",
            " 25/110 [=====>........................] - ETA: 8:58 - loss: 0.1213 - accuracy: 0.9562"
          ],
          "name": "stdout"
        }
      ]
    },
    {
      "cell_type": "code",
      "metadata": {
        "colab": {
          "base_uri": "https://localhost:8080/"
        },
        "id": "HCdJu4b5xB4L",
        "outputId": "4d42e81a-46f9-42ae-d9b7-26857a44f28f"
      },
      "source": [
        "loss, acc = model.evaluate(test, yText, verbose = 1)\n",
        "print('loss:', loss)\n",
        "print('accuracy:', acc)"
      ],
      "execution_count": null,
      "outputs": [
        {
          "output_type": "stream",
          "text": [
            "137/137 [==============================] - 43s 315ms/step - loss: 0.8386 - accuracy: 0.8152\n",
            "loss: 0.8385891318321228\n",
            "accuracy: 0.8151800036430359\n"
          ],
          "name": "stdout"
        }
      ]
    },
    {
      "cell_type": "code",
      "metadata": {
        "id": "1Kkc4VIj5n2M",
        "colab": {
          "base_uri": "https://localhost:8080/",
          "height": 573
        },
        "outputId": "1c52cc2f-1ae7-444e-ffd8-99be929473a6"
      },
      "source": [
        "plt.plot(hist.history['accuracy'])\n",
        "plt.plot(hist.history['val_accuracy'])\n",
        "plt.title('accuracy = {:.2f}'.format(acc))\n",
        "plt.xlabel('epoch')\n",
        "plt.ylabel('accuracy')\n",
        "plt.legend(['train, test'], loc ='upper left')\n",
        "plt.show()\n",
        "\n",
        "plt.plot(hist.history['loss'])\n",
        "plt.plot(hist.history['val_loss'])\n",
        "plt.title('loss = {:.2f}'.format(acc))\n",
        "plt.xlabel('epoch')\n",
        "plt.ylabel('loss')\n",
        "plt.legend(['train, test'], loc ='upper left')\n",
        "plt.show()"
      ],
      "execution_count": null,
      "outputs": [
        {
          "output_type": "display_data",
          "data": {
            "image/png": "[encoded data removed]",
            "text/plain": [
              "<Figure size 432x288 with 1 Axes>"
            ]
          },
          "metadata": {
            "tags": [],
            "needs_background": "light"
          }
        },
        {
          "output_type": "display_data",
          "data": {
            "image/png": "[encoded data removed]",
            "text/plain": [
              "<Figure size 432x288 with 1 Axes>"
            ]
          },
          "metadata": {
            "tags": [],
            "needs_background": "light"
          }
        }
      ]
    },
    {
      "cell_type": "code",
      "metadata": {
        "id": "bN2XLO2a6mww"
      },
      "source": [
        "#Save model\n",
        "model.save('movie_rating_classifier.h5')\n",
        "\n",
        "#Save tokenizer\n",
        "pickle.dump(tok, open('tokenizer.pkl', 'wb'))\n",
        "\n"
      ],
      "execution_count": null,
      "outputs": []
    },
    {
      "cell_type": "code",
      "metadata": {
        "id": "wqDYwKZQ8AsF",
        "colab": {
          "base_uri": "https://localhost:8080/"
        },
        "outputId": "f33d936a-04b1-4330-c5a1-8117dc5ec5cd"
      },
      "source": [
        "# dictionary of key-value mappings for MPAA ratings\n",
        "mpaa_ratings = { 0:'G', 1:'NC-17', 2:'PG', 3:'PG-13', 4:'R' }\n",
        "\n",
        "story = \"\"\n",
        "#story = xTrain[0]\n",
        "print(xTrain[0])\n",
        "print(yTrain[0])\n",
        "saved_tok = pickle.load(open('tokenizer.pkl', 'rb'))\n",
        "story = saved_tok.texts_to_sequences(story)\n",
        "flat_list = []\n",
        "for sublist in story:\n",
        "    for item in sublist:\n",
        "        flat_list.append(item)\n",
        "story = pad_sequences([flat_list], maxlen=maxlen)\n",
        "\n",
        "prediction = model.predict_classes(story)\n",
        "print(prediction)\n",
        "print('prediction:', mpaa_ratings[prediction[0]])\n",
        "\n"
      ],
      "execution_count": null,
      "outputs": [
        {
          "output_type": "stream",
          "text": [
            "coraline jones girl 11 feisty curious adventurous beyond years parents relocated michigan oregon missing friends finding parents distracted work coraline tries find excitement new environment coraline seriously doubts new home provide anything truly intriguing uncovers secret door house walking door venturing eerie passageway discovers alternate version life existence \n",
            "[0. 0. 1. 0. 0.]\n",
            "[2]\n",
            "prediction: PG\n"
          ],
          "name": "stdout"
        },
        {
          "output_type": "stream",
          "text": [
            "/usr/local/lib/python3.6/dist-packages/tensorflow/python/keras/engine/sequential.py:450: UserWarning: `model.predict_classes()` is deprecated and will be removed after 2021-01-01. Please use instead:* `np.argmax(model.predict(x), axis=-1)`,   if your model does multi-class classification   (e.g. if it uses a `softmax` last-layer activation).* `(model.predict(x) > 0.5).astype(\"int32\")`,   if your model does binary classification   (e.g. if it uses a `sigmoid` last-layer activation).\n",
            "  warnings.warn('`model.predict_classes()` is deprecated and '\n"
          ],
          "name": "stderr"
        }
      ]
    }
  ]
}